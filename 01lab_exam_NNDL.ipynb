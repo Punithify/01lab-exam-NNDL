{
  "nbformat": 4,
  "nbformat_minor": 0,
  "metadata": {
    "colab": {
      "provenance": []
    },
    "kernelspec": {
      "name": "python3",
      "display_name": "Python 3"
    },
    "language_info": {
      "name": "python"
    }
  },
  "cells": [
    {
      "cell_type": "markdown",
      "source": [
        "Attempt to implement a Single Layer Perceptron in Google Colab to classify the\n",
        "output of an XOR gate. Perform the following steps:"
      ],
      "metadata": {
        "id": "GuEByUSN5Ml3"
      }
    },
    {
      "cell_type": "code",
      "source": [
        "import numpy as np\n",
        "import pandas as pd\n",
        "\n",
        "# XOR truth table dataset\n",
        "X = np.array([[0, 0], [0, 1], [1, 0], [1, 1]])\n",
        "y = np.array([0, 1, 1, 0])\n",
        "\n",
        "# Displaying the dataset\n",
        "df = pd.DataFrame(X, columns=['Input 1', 'Input 2'])\n",
        "df['Output'] = y\n",
        "print(df)\n"
      ],
      "metadata": {
        "colab": {
          "base_uri": "https://localhost:8080/"
        },
        "id": "aD2wzQYd5VoV",
        "outputId": "5dadd514-130d-4be0-a257-54dd00ee8451"
      },
      "execution_count": 14,
      "outputs": [
        {
          "output_type": "stream",
          "name": "stdout",
          "text": [
            "   Input 1  Input 2  Output\n",
            "0        0        0       0\n",
            "1        0        1       1\n",
            "2        1        0       1\n",
            "3        1        1       0\n"
          ]
        }
      ]
    },
    {
      "cell_type": "markdown",
      "source": [
        "Implement the perceptron model and train it using the XOR dataset using MCP (McCulloch\n",
        "Pitts) Neuron."
      ],
      "metadata": {
        "id": "7yei_e8K5hbO"
      }
    },
    {
      "cell_type": "code",
      "source": [
        "import numpy as np\n",
        "\n",
        "# MCP Neuron model (Perceptron)\n",
        "class Perceptron:\n",
        "    def __init__(self, learning_rate=0.1, epochs=100):\n",
        "        self.learning_rate = learning_rate\n",
        "        self.epochs = epochs\n",
        "        self.weights = None\n",
        "        self.bias = None\n",
        "\n",
        "    def step_function(self, x):\n",
        "        return np.where(x >= 0, 1, 0)\n",
        "\n",
        "    def train(self, X, y):\n",
        "        n_samples, n_features = X.shape\n",
        "        self.weights = np.zeros(n_features)\n",
        "        self.bias = 0\n",
        "\n",
        "        # Training loop\n",
        "        for _ in range(self.epochs):\n",
        "            for idx, x_i in enumerate(X):\n",
        "                linear_output = np.dot(x_i, self.weights) + self.bias\n",
        "                y_pred = self.step_function(linear_output)\n",
        "\n",
        "                # Update rule\n",
        "                update = self.learning_rate * (y[idx] - y_pred)\n",
        "                self.weights += update * x_i\n",
        "                self.bias += update\n",
        "\n",
        "    def predict(self, X):\n",
        "        linear_output = np.dot(X, self.weights) + self.bias\n",
        "        return self.step_function(linear_output)\n",
        "\n",
        "# Initialize and train the perceptron\n",
        "perceptron = Perceptron(learning_rate=0.1, epochs=10)\n",
        "perceptron.train(X, y)\n",
        "\n",
        "# Predictions\n",
        "predictions = perceptron.predict(X)\n",
        "print(\"Predicted outputs for XOR using SLP:\", predictions)\n"
      ],
      "metadata": {
        "colab": {
          "base_uri": "https://localhost:8080/"
        },
        "id": "oRoVk2Jc5jd-",
        "outputId": "4301cc13-b15c-4b21-80ef-79a5997e7d79"
      },
      "execution_count": 15,
      "outputs": [
        {
          "output_type": "stream",
          "name": "stdout",
          "text": [
            "Predicted outputs for XOR using SLP: [1 1 0 0]\n"
          ]
        }
      ]
    },
    {
      "cell_type": "markdown",
      "source": [
        "Observe and discuss the perceptron's performance in this scenario.\n",
        "\n",
        "Observations:\n",
        "\n",
        "    The Single Layer Perceptron will fail to classify XOR correctly. It may output [0, 0, 0, 0] or another incorrect classification since XOR is non-linearly separable.\n",
        "    The SLP model struggles because it can only classify linearly separable datasets."
      ],
      "metadata": {
        "id": "JhAG2jHe5pTa"
      }
    },
    {
      "cell_type": "markdown",
      "source": [
        "Implement XOR using Multi-Layer Perceptron."
      ],
      "metadata": {
        "id": "C90gtdLC5umf"
      }
    },
    {
      "cell_type": "code",
      "source": [
        "import numpy as np\n",
        "import tensorflow as tf\n",
        "from tensorflow.keras.models import Sequential\n",
        "from tensorflow.keras.layers import Dense\n",
        "\n",
        "# XOR inputs and outputs\n",
        "X = np.array([[0, 0], [0, 1], [1, 0], [1, 1]])\n",
        "y = np.array([[0], [1], [1], [0]])\n",
        "\n",
        "# Create MLP model\n",
        "mlp_model = Sequential()\n",
        "mlp_model.add(Dense(units=4, input_dim=2, activation='tanh'))  # Hidden layer with 4 neurons\n",
        "mlp_model.add(Dense(units=1, activation='sigmoid'))  # Output layer\n",
        "\n",
        "# Compile the model\n",
        "mlp_model.compile(optimizer='adam', loss='binary_crossentropy', metrics=['accuracy'])\n",
        "\n",
        "# Train the model\n",
        "mlp_model.fit(X, y, epochs=500, verbose=0)\n",
        "\n",
        "# Predict XOR outputs\n",
        "mlp_predictions = mlp_model.predict(X)\n",
        "mlp_predictions = (mlp_predictions > 0.5).astype(int)\n",
        "print(\"Predicted outputs for XOR using MLP:\", mlp_predictions.flatten())"
      ],
      "metadata": {
        "colab": {
          "base_uri": "https://localhost:8080/"
        },
        "id": "cGuII2is5yYV",
        "outputId": "0a181882-bdbf-4c17-af6b-7ba62f578e33"
      },
      "execution_count": 19,
      "outputs": [
        {
          "output_type": "stream",
          "name": "stderr",
          "text": [
            "WARNING:tensorflow:5 out of the last 5 calls to <function TensorFlowTrainer.make_predict_function.<locals>.one_step_on_data_distributed at 0x7c894aca2170> triggered tf.function retracing. Tracing is expensive and the excessive number of tracings could be due to (1) creating @tf.function repeatedly in a loop, (2) passing tensors with different shapes, (3) passing Python objects instead of tensors. For (1), please define your @tf.function outside of the loop. For (2), @tf.function has reduce_retracing=True option that can avoid unnecessary retracing. For (3), please refer to https://www.tensorflow.org/guide/function#controlling_retracing and https://www.tensorflow.org/api_docs/python/tf/function for  more details.\n"
          ]
        },
        {
          "output_type": "stream",
          "name": "stdout",
          "text": [
            "\u001b[1m1/1\u001b[0m \u001b[32m━━━━━━━━━━━━━━━━━━━━\u001b[0m\u001b[37m\u001b[0m \u001b[1m0s\u001b[0m 78ms/step\n",
            "Predicted outputs for XOR using MLP: [0 1 1 0]\n"
          ]
        }
      ]
    },
    {
      "cell_type": "markdown",
      "source": [
        "Documentation:\n",
        "\n",
        "SLP Limitations: The SLP cannot classify the XOR gate due to its inability to handle non-linearly separable data.\n",
        "\n",
        "MLP Solution: By introducing hidden layers and using non-linear activation functions (e.g., ReLU), the MLP can solve the XOR classification problem.\n",
        "\n",
        "Conclusion: XOR is an example of a problem that requires a more complex model (MLP) to be classified correctly, which highlights the importance of multi-layer architectures in neural networks for non-linear data."
      ],
      "metadata": {
        "id": "Gh0y5vpY5-mL"
      }
    },
    {
      "cell_type": "markdown",
      "source": [
        "Question 2:\n",
        "\n",
        "A. Sentiment Analysis Twitter Airline"
      ],
      "metadata": {
        "id": "Ur8NT_I_6Es2"
      }
    },
    {
      "cell_type": "markdown",
      "source": [
        "Load and preprocess the dataset"
      ],
      "metadata": {
        "id": "lq4Jj6rs7kGi"
      }
    },
    {
      "cell_type": "code",
      "source": [
        "import pandas as pd\n",
        "import numpy as np\n",
        "from sklearn.model_selection import train_test_split\n",
        "from sklearn.feature_extraction.text import TfidfVectorizer\n",
        "from sklearn.preprocessing import LabelEncoder\n",
        "import matplotlib.pyplot as plt\n",
        "import tensorflow as tf\n",
        "from tensorflow.keras.models import Sequential\n",
        "from tensorflow.keras.layers import Dense\n",
        "\n",
        "# Load the dataset\n",
        "df = pd.read_csv('/content/Tweets.csv')\n",
        "\n",
        "# Filter and preprocess the dataset for binary sentiment (positive/negative)\n",
        "df = df[df['airline_sentiment'] != 'neutral']\n",
        "df['sentiment'] = df['airline_sentiment'].map({'positive': 1, 'negative': 0})\n",
        "\n",
        "# Extract the text and sentiment labels\n",
        "texts = df['text'].values\n",
        "labels = df['sentiment'].values\n",
        "\n",
        "# Convert text data into numerical format using TF-IDF\n",
        "tfidf_vectorizer = TfidfVectorizer(max_features=2000)  # Limiting to 2000 features\n",
        "X = tfidf_vectorizer.fit_transform(texts).toarray()\n",
        "\n",
        "# Split the data into training and testing sets\n",
        "X_train, X_test, y_train, y_test = train_test_split(X, labels, test_size=0.2, random_state=42)\n"
      ],
      "metadata": {
        "id": "YzjludKD7m65"
      },
      "execution_count": 10,
      "outputs": []
    },
    {
      "cell_type": "markdown",
      "source": [
        "Create a simple feed-forward neural network for binary sentiment classification\n",
        "(positive/negative)."
      ],
      "metadata": {
        "id": "BidU-qG18GLo"
      }
    },
    {
      "cell_type": "code",
      "source": [
        "# Create a simple feed-forward neural network\n",
        "def build_model(activation_function='sigmoid'):\n",
        "    model = Sequential()\n",
        "    model.add(Dense(16, input_dim=2000, activation=activation_function))  # Hidden layer\n",
        "    model.add(Dense(1, activation='sigmoid'))  # Output layer for binary classification\n",
        "    model.compile(optimizer='adam', loss='binary_crossentropy', metrics=['accuracy'])\n",
        "    return model"
      ],
      "metadata": {
        "id": "vrUxd7pI8Kep"
      },
      "execution_count": 5,
      "outputs": []
    },
    {
      "cell_type": "markdown",
      "source": [
        "Use backpropagation to optimize the model's weights based on error calculation."
      ],
      "metadata": {
        "id": "C5NqdQ0u8QI3"
      }
    },
    {
      "cell_type": "code",
      "source": [
        "# Initialize the model with ReLU activation in the hidden layer\n",
        "model = build_model(activation_function='relu')\n",
        "# Train the model\n",
        "history = model.fit(X_train, y_train, epochs=10, batch_size=32, validation_data=(X_test, y_test))\n"
      ],
      "metadata": {
        "colab": {
          "base_uri": "https://localhost:8080/"
        },
        "id": "b7UcbB6S8S8T",
        "outputId": "27015a72-6ac3-470d-8e52-5ca88c9dcc1e"
      },
      "execution_count": 8,
      "outputs": [
        {
          "output_type": "stream",
          "name": "stdout",
          "text": [
            "Epoch 1/10\n",
            "\u001b[1m289/289\u001b[0m \u001b[32m━━━━━━━━━━━━━━━━━━━━\u001b[0m\u001b[37m\u001b[0m \u001b[1m2s\u001b[0m 3ms/step - accuracy: 0.7823 - loss: 0.5627 - val_accuracy: 0.8679 - val_loss: 0.3211\n",
            "Epoch 2/10\n",
            "\u001b[1m289/289\u001b[0m \u001b[32m━━━━━━━━━━━━━━━━━━━━\u001b[0m\u001b[37m\u001b[0m \u001b[1m1s\u001b[0m 2ms/step - accuracy: 0.8917 - loss: 0.2804 - val_accuracy: 0.9186 - val_loss: 0.2217\n",
            "Epoch 3/10\n",
            "\u001b[1m289/289\u001b[0m \u001b[32m━━━━━━━━━━━━━━━━━━━━\u001b[0m\u001b[37m\u001b[0m \u001b[1m2s\u001b[0m 5ms/step - accuracy: 0.9351 - loss: 0.1882 - val_accuracy: 0.9277 - val_loss: 0.1958\n",
            "Epoch 4/10\n",
            "\u001b[1m289/289\u001b[0m \u001b[32m━━━━━━━━━━━━━━━━━━━━\u001b[0m\u001b[37m\u001b[0m \u001b[1m1s\u001b[0m 3ms/step - accuracy: 0.9478 - loss: 0.1528 - val_accuracy: 0.9268 - val_loss: 0.1878\n",
            "Epoch 5/10\n",
            "\u001b[1m289/289\u001b[0m \u001b[32m━━━━━━━━━━━━━━━━━━━━\u001b[0m\u001b[37m\u001b[0m \u001b[1m1s\u001b[0m 3ms/step - accuracy: 0.9551 - loss: 0.1279 - val_accuracy: 0.9272 - val_loss: 0.1876\n",
            "Epoch 6/10\n",
            "\u001b[1m289/289\u001b[0m \u001b[32m━━━━━━━━━━━━━━━━━━━━\u001b[0m\u001b[37m\u001b[0m \u001b[1m1s\u001b[0m 2ms/step - accuracy: 0.9617 - loss: 0.1165 - val_accuracy: 0.9290 - val_loss: 0.1907\n",
            "Epoch 7/10\n",
            "\u001b[1m289/289\u001b[0m \u001b[32m━━━━━━━━━━━━━━━━━━━━\u001b[0m\u001b[37m\u001b[0m \u001b[1m1s\u001b[0m 2ms/step - accuracy: 0.9639 - loss: 0.1097 - val_accuracy: 0.9290 - val_loss: 0.1960\n",
            "Epoch 8/10\n",
            "\u001b[1m289/289\u001b[0m \u001b[32m━━━━━━━━━━━━━━━━━━━━\u001b[0m\u001b[37m\u001b[0m \u001b[1m1s\u001b[0m 2ms/step - accuracy: 0.9665 - loss: 0.0964 - val_accuracy: 0.9268 - val_loss: 0.2024\n",
            "Epoch 9/10\n",
            "\u001b[1m289/289\u001b[0m \u001b[32m━━━━━━━━━━━━━━━━━━━━\u001b[0m\u001b[37m\u001b[0m \u001b[1m1s\u001b[0m 2ms/step - accuracy: 0.9650 - loss: 0.0970 - val_accuracy: 0.9251 - val_loss: 0.2106\n",
            "Epoch 10/10\n",
            "\u001b[1m289/289\u001b[0m \u001b[32m━━━━━━━━━━━━━━━━━━━━\u001b[0m\u001b[37m\u001b[0m \u001b[1m1s\u001b[0m 2ms/step - accuracy: 0.9701 - loss: 0.0848 - val_accuracy: 0.9233 - val_loss: 0.2175\n"
          ]
        }
      ]
    },
    {
      "cell_type": "markdown",
      "source": [
        "Experiment with different activation functions (sigmoid, ReLU, tanh) in the hidden layer\n",
        "and compare the model's performance."
      ],
      "metadata": {
        "id": "PpjEshtN8vSx"
      }
    },
    {
      "cell_type": "code",
      "source": [
        "for activation_function in ['sigmoid', 'relu', 'tanh']:\n",
        "    print(f\"\\nTesting with {activation_function} activation function\")\n",
        "    model = build_model(activation_function=activation_function)\n",
        "    model.fit(X_train, y_train, epochs=10, batch_size=32, verbose=0)\n",
        "    loss, accuracy = model.evaluate(X_test, y_test)\n",
        "    print(f\"Test Accuracy with {activation_function}: {accuracy * 100:.2f}%\")"
      ],
      "metadata": {
        "colab": {
          "base_uri": "https://localhost:8080/"
        },
        "id": "wO2kfcq_87qh",
        "outputId": "3ae5b9d4-4b10-4079-d86c-f381782f733a"
      },
      "execution_count": 9,
      "outputs": [
        {
          "output_type": "stream",
          "name": "stdout",
          "text": [
            "\n",
            "Testing with sigmoid activation function\n",
            "\u001b[1m73/73\u001b[0m \u001b[32m━━━━━━━━━━━━━━━━━━━━\u001b[0m\u001b[37m\u001b[0m \u001b[1m0s\u001b[0m 2ms/step - accuracy: 0.9231 - loss: 0.1926\n",
            "Test Accuracy with sigmoid: 92.25%\n",
            "\n",
            "Testing with relu activation function\n",
            "\u001b[1m73/73\u001b[0m \u001b[32m━━━━━━━━━━━━━━━━━━━━\u001b[0m\u001b[37m\u001b[0m \u001b[1m0s\u001b[0m 2ms/step - accuracy: 0.9250 - loss: 0.2195\n",
            "Test Accuracy with relu: 92.33%\n",
            "\n",
            "Testing with tanh activation function\n",
            "\u001b[1m73/73\u001b[0m \u001b[32m━━━━━━━━━━━━━━━━━━━━\u001b[0m\u001b[37m\u001b[0m \u001b[1m0s\u001b[0m 1ms/step - accuracy: 0.9248 - loss: 0.2367\n",
            "Test Accuracy with tanh: 92.42%\n"
          ]
        }
      ]
    },
    {
      "cell_type": "markdown",
      "source": [
        "Evaluate the model on a test set using accuracy and plot the loss over epochs."
      ],
      "metadata": {
        "id": "425hsC7v9JXe"
      }
    },
    {
      "cell_type": "code",
      "source": [
        "\n",
        "# Evaluate the model\n",
        "loss, accuracy = model.evaluate(X_test, y_test)\n",
        "print(f\"Test Accuracy: {accuracy * 100:.2f}%\")\n",
        "\n",
        "# Plot the loss over epochs\n",
        "plt.plot(history.history['loss'], label='Training Loss')\n",
        "plt.plot(history.history['val_loss'], label='Validation Loss')\n",
        "plt.title('Loss over epochs')\n",
        "plt.xlabel('Epochs')\n",
        "plt.ylabel('Loss')\n",
        "plt.legend()\n",
        "plt.show()"
      ],
      "metadata": {
        "colab": {
          "base_uri": "https://localhost:8080/",
          "height": 509
        },
        "id": "0HYvpBdq9KPd",
        "outputId": "5755fb15-7fa2-4823-d194-1bca74555b52"
      },
      "execution_count": 11,
      "outputs": [
        {
          "output_type": "stream",
          "name": "stdout",
          "text": [
            "\u001b[1m73/73\u001b[0m \u001b[32m━━━━━━━━━━━━━━━━━━━━\u001b[0m\u001b[37m\u001b[0m \u001b[1m0s\u001b[0m 1ms/step - accuracy: 0.9248 - loss: 0.2367\n",
            "Test Accuracy: 92.42%\n"
          ]
        },
        {
          "output_type": "display_data",
          "data": {
            "text/plain": [
              "<Figure size 640x480 with 1 Axes>"
            ],
            "image/png": "[encoded data removed]"
          },
          "metadata": {}
        }
      ]
    }
  ]
}